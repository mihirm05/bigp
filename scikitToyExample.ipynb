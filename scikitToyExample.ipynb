{
 "cells": [
  {
   "cell_type": "code",
   "execution_count": 5,
   "metadata": {},
   "outputs": [
    {
     "data": {
      "text/plain": [
       "Text(0, 0.5, '$f(x)$')"
      ]
     },
     "execution_count": 5,
     "metadata": {},
     "output_type": "execute_result"
    },
    {
     "data": {
      "image/png": "[encoded data removed]",
      "text/plain": [
       "<Figure size 432x288 with 1 Axes>"
      ]
     },
     "metadata": {
      "needs_background": "light"
     },
     "output_type": "display_data"
    }
   ],
   "source": [
    "import numpy as np\n",
    "from matplotlib import pyplot as plt\n",
    "\n",
    "from sklearn.gaussian_process import GaussianProcessRegressor\n",
    "from sklearn.gaussian_process.kernels import RBF, ConstantKernel as C\n",
    "\n",
    "np.random.seed(1)\n",
    "%matplotlib inline\n",
    "\n",
    "#def f(x):\n",
    "#    \"\"\"The function to predict.\"\"\"\n",
    "#    return x * np.sin(x)\n",
    "\n",
    "# ----------------------------------------------------------------------\n",
    "#  First the noiseless case\n",
    "#X = np.atleast_2d([1., 3., 5., 6., 7., 8.]).T\n",
    "y = np.array([[8221158,\n",
    "               82349925,\n",
    "               82488495,\n",
    "               82534176,\n",
    "               82469422,\n",
    "               82376451,\n",
    "               82266372,\n",
    "               819237,\n",
    "               8177693,\n",
    "               8425823,\n",
    "               89825,\n",
    "               81686611\n",
    "               ]]).reshape(-1,1)\n",
    "X = np.array([[2000,2001,2002,2003,2005,2006,2007,2009,2010,2012,2014,2015]]).reshape(-1,1)\n",
    "\n",
    "Y = np.array([[8251626,\n",
    "               821197,\n",
    "               8274983,\n",
    "               864565]]).reshape(-1,1)       \n",
    "#x = np.array([[2000,2008,2011,2013]]).reshape(-1,1)\n",
    "\n",
    "\n",
    "# Mesh the input space for evaluations of the real function, the prediction and\n",
    "# its MSE\n",
    "#x = np.atleast_2d(np.linspace(0, 10, 1000)).T\n",
    "x = np.array(np.linspace(2000, 2015, 10)).reshape(-1,1)\n",
    "\n",
    "# Instantiate a Gaussian Process model\n",
    "kernel = C(1.0, (1e-3, 1e3)) * RBF(10, (1e-2, 1e2))\n",
    "gp = GaussianProcessRegressor(kernel=kernel, n_restarts_optimizer=9)\n",
    "\n",
    "# Fit to data using Maximum Likelihood Estimation of the parameters\n",
    "gp.fit(X, y)\n",
    "\n",
    "# Make the prediction on the meshed x-axis (ask for MSE as well)\n",
    "y_pred, sigma = gp.predict(x, return_std=True)\n",
    "\n",
    "# Plot the function, the prediction and the 95% confidence interval based on\n",
    "# the MSE\n",
    "plt.figure()\n",
    "\n",
    "#plt.plot(x, Y, 'r--',label=r'$f(x) = x\\,\\sin(x)$')\n",
    "#actual data \n",
    "plt.scatter(X, y,label='Observations')\n",
    "#, 'b--',markersize=10, \n",
    "#estimate\n",
    "plt.plot(x, y_pred, 'g--', label='Prediction')\n",
    "plt.fill(np.concatenate([x, x[::-1]]),\n",
    "         np.concatenate([y_pred - 1.9600 * sigma,\n",
    "                        (y_pred + 1.9600 * sigma)[::-1]]),\n",
    "         alpha=1, fc='b', ec='None', label='95% confidence interval')\n",
    "plt.xlabel('$x$')\n",
    "plt.ylabel('$f(x)$')\n",
    "#plt.yscale('log')\n",
    "#plt.ylim(1e3, 1e8)\n",
    "#plt.legend(loc='upper left')"
   ]
  },
  {
   "cell_type": "code",
   "execution_count": null,
   "metadata": {},
   "outputs": [],
   "source": []
  }
 ],
 "metadata": {
  "kernelspec": {
   "display_name": "Python 3",
   "language": "python",
   "name": "python3"
  },
  "language_info": {
   "codemirror_mode": {
    "name": "ipython",
    "version": 3
   },
   "file_extension": ".py",
   "mimetype": "text/x-python",
   "name": "python",
   "nbconvert_exporter": "python",
   "pygments_lexer": "ipython3",
   "version": "3.7.3"
  }
 },
 "nbformat": 4,
 "nbformat_minor": 2
}
